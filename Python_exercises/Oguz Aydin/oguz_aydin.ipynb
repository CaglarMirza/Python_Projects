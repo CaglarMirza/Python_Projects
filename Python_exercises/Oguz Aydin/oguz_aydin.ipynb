{
 "metadata": {
  "language_info": {
   "codemirror_mode": {
    "name": "ipython",
    "version": 3
   },
   "file_extension": ".py",
   "mimetype": "text/x-python",
   "name": "python",
   "nbconvert_exporter": "python",
   "pygments_lexer": "ipython3",
   "version": 3
  },
  "orig_nbformat": 2
 },
 "nbformat": 4,
 "nbformat_minor": 2,
 "cells": [
  {
   "cell_type": "code",
   "execution_count": null,
   "metadata": {},
   "outputs": [],
   "source": [
    "def ekleme(e,l,p):\n",
    "    l.insert(p,e)\n",
    "    return l\n",
    "\n",
    "listem = [1,2,3,4,6]\n",
    "eleman = 'kirmizi'\n",
    "pozisyon = 3\n",
    "print(ekleme(eleman,listem,pozisyon))"
   ]
  },
  {
   "cell_type": "code",
   "execution_count": null,
   "metadata": {},
   "outputs": [],
   "source": [
    "def listekaydir(l,y,a):  #l liste,  y yonu  , a adim\n",
    "    if y == 'sag':\n",
    "        sonuc = l[-a:] + l[:-a]\n",
    "    if y == 'sol':\n",
    "        sonuc = l[a:] + l[:a]\n",
    "    return sonuc\n",
    "\n",
    "print(listekaydir([1,2,3,4,5,6],'sol',2))\n",
    "print(listekaydir([1,2,3,4,5,6],'sag',2))"
   ]
  }
 ]
}