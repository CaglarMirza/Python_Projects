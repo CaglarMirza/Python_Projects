{
 "metadata": {
  "language_info": {
   "codemirror_mode": {
    "name": "ipython",
    "version": 3
   },
   "file_extension": ".py",
   "mimetype": "text/x-python",
   "name": "python",
   "nbconvert_exporter": "python",
   "pygments_lexer": "ipython3",
   "version": "3.9.2"
  },
  "orig_nbformat": 2,
  "kernelspec": {
   "name": "python392jvsc74a57bd0aee8b7b246df8f9039afb4144a1f6fd8d2ca17a180786b69acc140d282b71a49",
   "display_name": "Python 3.9.2 64-bit"
  },
  "metadata": {
   "interpreter": {
    "hash": "aee8b7b246df8f9039afb4144a1f6fd8d2ca17a180786b69acc140d282b71a49"
   }
  }
 },
 "nbformat": 4,
 "nbformat_minor": 2,
 "cells": [
  {
   "cell_type": "code",
   "execution_count": null,
   "metadata": {},
   "outputs": [],
   "source": [
    "def ekleme(e,l,p):\n",
    "    l.insert(p,e)\n",
    "    return l\n",
    "\n",
    "listem = [1,2,3,4,6]\n",
    "eleman = 'kirmizi'\n",
    "pozisyon = 3\n",
    "print(ekleme(eleman,listem,pozisyon))"
   ]
  },
  {
   "cell_type": "code",
   "execution_count": null,
   "metadata": {},
   "outputs": [],
   "source": [
    "def listekaydir(l,y,a):  #l liste,  y yonu  , a adim\n",
    "    if y == 'sag':\n",
    "        sonuc = l[-a:] + l[:-a]\n",
    "    if y == 'sol':\n",
    "        sonuc = l[a:] + l[:a]\n",
    "    return sonuc\n",
    "\n",
    "print(listekaydir([1,2,3,4,5,6],'sol',2))\n",
    "print(listekaydir([1,2,3,4,5,6],'sag',2))"
   ]
  },
  {
   "cell_type": "code",
   "execution_count": null,
   "metadata": {},
   "outputs": [],
   "source": [
    "def model1(n): # n boyut\n",
    "    for i in range(n):      # tum satir icin \n",
    "        for j in range(n):      # satirdaki tekrar eden semboller icin\n",
    "            if i%2==0:\n",
    "                print('.', end = ' ')\n",
    "            else:\n",
    "                print('#', end = ' ')\n",
    "        print()\n",
    "\n",
    "model1(10)"
   ]
  },
  {
   "cell_type": "code",
   "execution_count": null,
   "metadata": {},
   "outputs": [],
   "source": [
    "def model2(n):\n",
    "    i =0\n",
    "    while i < n:\n",
    "        j=0\n",
    "        while j < n:\n",
    "            if (i+j)%2==0:\n",
    "                print('.', end= ' ')\n",
    "            else:\n",
    "                print('#', end= ' ')\n",
    "            j+=1\n",
    "        print()\n",
    "        i+=1\n",
    "model2(10)"
   ]
  },
  {
   "cell_type": "code",
   "execution_count": null,
   "metadata": {},
   "outputs": [],
   "source": [
    "def model(n):\n",
    "    for i in range(n):\n",
    "        for j in range(n):\n",
    "            if i%2 == 0:\n",
    "                if j<i and j%2==1:\n",
    "                    print('.', end=' ')\n",
    "                else:\n",
    "                    print('#', end=' ')\n",
    "            else:\n",
    "                if i>j and j%2==0:\n",
    "                    print('#', end=' ')\n",
    "                else:\n",
    "                    print('.', end=' ')\n",
    "        print()\n",
    "\n",
    "model(10)"
   ]
  },
  {
   "cell_type": "code",
   "execution_count": null,
   "metadata": {},
   "outputs": [],
   "source": [
    "# yukaridakinin diger. cozumu\n",
    "def model(n):\n",
    "    for i in range(n):\n",
    "        for j in range(n):\n",
    "            if i>j: # 1. bolge icin\n",
    "                if j%2==0: \n",
    "                    print('#', end= ' ')\n",
    "                else: \n",
    "                    print('.' ,end= ' ')\n",
    "            else:       # 2. bolge icin\n",
    "                if i%2==0: \n",
    "                    print('#', end= ' ')\n",
    "                else: \n",
    "                    print('.' ,end= ' ')\n",
    "        print()\n",
    "\n",
    "model(10)\n"
   ]
  },
  {
   "cell_type": "code",
   "execution_count": null,
   "metadata": {},
   "outputs": [],
   "source": [
    "def fibo(n):\n",
    "    if n ==0:\n",
    "        return 0\n",
    "    elif n == 1:\n",
    "        return 1\n",
    "    else:\n",
    "        return fibo(n-1)+fibo(n-2)\n",
    "\n",
    "print(fibo(6))"
   ]
  },
  {
   "cell_type": "code",
   "execution_count": null,
   "metadata": {},
   "outputs": [],
   "source": [
    "import time\n",
    "\n",
    "def fibo(n):\n",
    "    if n ==0:\n",
    "        return 0\n",
    "    elif n == 1:\n",
    "        return 1\n",
    "    else:\n",
    "        return fibo(n-1)+fibo(n-2)\n",
    "\n",
    "for i in range(10):\n",
    "    t0 = time.time()\n",
    "    print(fibo(i))\n",
    "    t1 = time.time()\n",
    "    print('sure', round(t1-t0, 2), 'sn')\n",
    "    print()\n",
    "\n",
    "\n"
   ]
  },
  {
   "cell_type": "code",
   "execution_count": null,
   "metadata": {},
   "outputs": [],
   "source": [
    "def fibo(n):            # daha hizli islem yapmamizi sagliyor\n",
    "    a = 0 \n",
    "    b = 1\n",
    "    print('Fibo 0:',a)\n",
    "    print('Fibo 1:', b)\n",
    "    for i in range(2, n+1):\n",
    "        c = a+b\n",
    "        print('Fibo {}: '.format(i), c)\n",
    "        a = b\n",
    "        b = c\n",
    "\n",
    "fibo(50) "
   ]
  },
  {
   "cell_type": "code",
   "execution_count": null,
   "metadata": {},
   "outputs": [],
   "source": [
    "fibo_sozluk = {}\n",
    "\n",
    "def fibo(n):         # hafizalama metodu\n",
    "\n",
    "    if n in fibo_sozluk:\n",
    "        return fibo_sozluk[n]\n",
    "    if n==0:\n",
    "        sonuc= 0\n",
    "    elif n==1:\n",
    "        sonuc = 1  \n",
    "    else:\n",
    "        sonuc = fibo(n-1) + fibo(n-2)\n",
    "    \n",
    "    fibo_sozluk[n] =sonuc\n",
    "    return sonuc\n",
    "\n",
    "for i in range(101):\n",
    "    print('fibo {}:'.format(i), fibo(i))\n",
    "\n",
    "    "
   ]
  },
  {
   "cell_type": "code",
   "execution_count": null,
   "metadata": {},
   "outputs": [],
   "source": [
    "yollar = {}\n",
    "\n",
    "def yolbulma(*boyut):\n",
    "    x= boyut[0]\n",
    "    y= boyut[1]\n",
    "\n",
    "    if (x,y) in yollar or (y,x) in yollar:\n",
    "        return yollar[x,y]\n",
    "    if x==1 or y ==1:\n",
    "        sonuc = 1\n",
    "    elif x== y:\n",
    "        sonuc = 2* (yolbulma(x-1,y ))\n",
    "    else:\n",
    "        sonuc = yolbulma(x-1,y) + yolbulma(x,y-1)\n",
    "    yollar[boyut] = sonuc\n",
    "    return sonuc\n",
    "print(yolbulma(21,21)) "
   ]
  },
  {
   "cell_type": "code",
   "execution_count": null,
   "metadata": {},
   "outputs": [],
   "source": [
    "import random\n",
    "\n",
    "def pi_tahmin(n):\n",
    "    cemberdeki_nokta = 0\n",
    "    for _ in range(n):\n",
    "        x = random.uniform(0,1)\n",
    "        y = random.uniform(0,1)\n",
    "        mesafe = x**2 + y**2\n",
    "        if mesafe <=1:\n",
    "            cemberdeki_nokta +=1\n",
    "    return 4*cemberdeki_nokta/n\n",
    "print(pi_tahmin(1000000))"
   ]
  },
  {
   "cell_type": "code",
   "execution_count": null,
   "metadata": {},
   "outputs": [],
   "source": [
    "import random\n",
    "\n",
    "def pi_tahmin(n):\n",
    "    cemberdeki_nokta = 0\n",
    "    for _ in range(n):\n",
    "        x = random.uniform(0,1)\n",
    "        y = random.uniform(0,1)\n",
    "        mesafe = x**2 + y**2\n",
    "        if mesafe <=1:\n",
    "            cemberdeki_nokta +=1\n",
    "    return 4*cemberdeki_nokta/n\n",
    "print(pi_tahmin(1000000))"
   ]
  },
  {
   "cell_type": "code",
   "execution_count": null,
   "metadata": {},
   "outputs": [],
   "source": []
  },
  {
   "cell_type": "code",
   "execution_count": null,
   "metadata": {},
   "outputs": [],
   "source": []
  },
  {
   "cell_type": "code",
   "execution_count": null,
   "metadata": {},
   "outputs": [],
   "source": []
  },
  {
   "cell_type": "code",
   "execution_count": null,
   "metadata": {},
   "outputs": [],
   "source": []
  },
  {
   "cell_type": "code",
   "execution_count": null,
   "metadata": {},
   "outputs": [],
   "source": []
  },
  {
   "cell_type": "code",
   "execution_count": null,
   "metadata": {},
   "outputs": [],
   "source": []
  },
  {
   "cell_type": "code",
   "execution_count": null,
   "metadata": {},
   "outputs": [],
   "source": []
  }
 ]
}