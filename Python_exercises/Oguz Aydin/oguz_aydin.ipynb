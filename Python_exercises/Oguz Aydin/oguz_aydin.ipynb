{
 "metadata": {
  "language_info": {
   "codemirror_mode": {
    "name": "ipython",
    "version": 3
   },
   "file_extension": ".py",
   "mimetype": "text/x-python",
   "name": "python",
   "nbconvert_exporter": "python",
   "pygments_lexer": "ipython3",
   "version": "3.9.2"
  },
  "orig_nbformat": 2,
  "kernelspec": {
   "name": "python392jvsc74a57bd0aee8b7b246df8f9039afb4144a1f6fd8d2ca17a180786b69acc140d282b71a49",
   "display_name": "Python 3.9.2 64-bit"
  },
  "metadata": {
   "interpreter": {
    "hash": "aee8b7b246df8f9039afb4144a1f6fd8d2ca17a180786b69acc140d282b71a49"
   }
  }
 },
 "nbformat": 4,
 "nbformat_minor": 2,
 "cells": [
  {
   "cell_type": "code",
   "execution_count": 2,
   "metadata": {},
   "outputs": [
    {
     "output_type": "stream",
     "name": "stdout",
     "text": [
      "[1, 2, 3, 'kirmizi', 4, 6]\n"
     ]
    }
   ],
   "source": [
    "def ekleme(e,l,p):\n",
    "    l.insert(p,e)\n",
    "    return l\n",
    "\n",
    "listem = [1,2,3,4,6]\n",
    "eleman = 'kirmizi'\n",
    "pozisyon = 3\n",
    "print(ekleme(eleman,listem,pozisyon))"
   ]
  },
  {
   "cell_type": "code",
   "execution_count": 3,
   "metadata": {},
   "outputs": [
    {
     "output_type": "stream",
     "name": "stdout",
     "text": [
      "[3, 4, 5, 6, 1, 2]\n[5, 6, 1, 2, 3, 4]\n"
     ]
    }
   ],
   "source": [
    "def listekaydir(l,y,a):  #l liste,  y yonu  , a adim\n",
    "    if y == 'sag':\n",
    "        sonuc = l[-a:] + l[:-a]\n",
    "    if y == 'sol':\n",
    "        sonuc = l[a:] + l[:a]\n",
    "    return sonuc\n",
    "\n",
    "print(listekaydir([1,2,3,4,5,6],'sol',2))\n",
    "print(listekaydir([1,2,3,4,5,6],'sag',2))"
   ]
  },
  {
   "cell_type": "code",
   "execution_count": 4,
   "metadata": {},
   "outputs": [
    {
     "output_type": "stream",
     "name": "stdout",
     "text": [
      ". . . . . . . . . . \n# # # # # # # # # # \n. . . . . . . . . . \n# # # # # # # # # # \n. . . . . . . . . . \n# # # # # # # # # # \n. . . . . . . . . . \n# # # # # # # # # # \n. . . . . . . . . . \n# # # # # # # # # # \n"
     ]
    }
   ],
   "source": [
    "def model1(n): # n boyut\n",
    "    for i in range(n):      # tum satir icin \n",
    "        for j in range(n):      # satirdaki tekrar eden semboller icin\n",
    "            if i%2==0:\n",
    "                print('.', end = ' ')\n",
    "            else:\n",
    "                print('#', end = ' ')\n",
    "        print()\n",
    "\n",
    "model1(10)"
   ]
  },
  {
   "cell_type": "code",
   "execution_count": 1,
   "metadata": {},
   "outputs": [
    {
     "output_type": "stream",
     "name": "stdout",
     "text": [
      ". # . # . # . # . # \n# . # . # . # . # . \n. # . # . # . # . # \n# . # . # . # . # . \n. # . # . # . # . # \n# . # . # . # . # . \n. # . # . # . # . # \n# . # . # . # . # . \n. # . # . # . # . # \n# . # . # . # . # . \n"
     ]
    }
   ],
   "source": [
    "def model2(n):\n",
    "    i =0\n",
    "    while i < n:\n",
    "        j=0\n",
    "        while j < n:\n",
    "            if (i+j)%2==0:\n",
    "                print('.', end= ' ')\n",
    "            else:\n",
    "                print('#', end= ' ')\n",
    "            j+=1\n",
    "        print()\n",
    "        i+=1\n",
    "model2(10)"
   ]
  },
  {
   "cell_type": "code",
   "execution_count": 2,
   "metadata": {},
   "outputs": [
    {
     "output_type": "stream",
     "name": "stdout",
     "text": [
      "# # # # # # # # # # \n# . . . . . . . . . \n# . # # # # # # # # \n# . # . . . . . . . \n# . # . # # # # # # \n# . # . # . . . . . \n# . # . # . # # # # \n# . # . # . # . . . \n# . # . # . # . # # \n# . # . # . # . # . \n"
     ]
    }
   ],
   "source": [
    "def model(n):\n",
    "    for i in range(n):\n",
    "        for j in range(n):\n",
    "            if i%2 == 0:\n",
    "                if j<i and j%2==1:\n",
    "                    print('.', end=' ')\n",
    "                else:\n",
    "                    print('#', end=' ')\n",
    "            else:\n",
    "                if i>j and j%2==0:\n",
    "                    print('#', end=' ')\n",
    "                else:\n",
    "                    print('.', end=' ')\n",
    "        print()\n",
    "\n",
    "model(10)"
   ]
  },
  {
   "cell_type": "code",
   "execution_count": 3,
   "metadata": {},
   "outputs": [
    {
     "output_type": "stream",
     "name": "stdout",
     "text": [
      "# # # # # # # # # # \n# . . . . . . . . . \n# . # # # # # # # # \n# . # . . . . . . . \n# . # . # # # # # # \n# . # . # . . . . . \n# . # . # . # # # # \n# . # . # . # . . . \n# . # . # . # . # # \n# . # . # . # . # . \n"
     ]
    }
   ],
   "source": [
    "# yukaridakinin diger. cozumu\n",
    "def model(n):\n",
    "    for i in range(n):\n",
    "        for j in range(n):\n",
    "            if i>j: # 1. bolge icin\n",
    "                if j%2==0: \n",
    "                    print('#', end= ' ')\n",
    "                else: \n",
    "                    print('.' ,end= ' ')\n",
    "            else:       # 2. bolge icin\n",
    "                if i%2==0: \n",
    "                    print('#', end= ' ')\n",
    "                else: \n",
    "                    print('.' ,end= ' ')\n",
    "        print()\n",
    "\n",
    "model(10)\n"
   ]
  },
  {
   "cell_type": "code",
   "execution_count": null,
   "metadata": {},
   "outputs": [],
   "source": [
    "def fibo(n):\n",
    "    if n ==0:\n",
    "        return 0\n",
    "    elif n == 1:\n",
    "        return 1\n",
    "    else:\n",
    "        return fibo(n-1)+fibo(n-2)\n",
    "\n",
    "print(fibo(6))"
   ]
  },
  {
   "cell_type": "code",
   "execution_count": null,
   "metadata": {},
   "outputs": [],
   "source": [
    "def fibo(n):\n",
    "    if n ==0:\n",
    "        return 0\n",
    "    elif n == 1:\n",
    "        return 1\n",
    "    else:\n",
    "        return fibo(n-1)+fibo(n-2)\n",
    "\n",
    "for i in range(10):\n",
    "    print(fibo(i))"
   ]
  }
 ]
}