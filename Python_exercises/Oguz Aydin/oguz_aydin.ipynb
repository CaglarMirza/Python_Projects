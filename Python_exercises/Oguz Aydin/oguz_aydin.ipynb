{
 "metadata": {
  "language_info": {
   "codemirror_mode": {
    "name": "ipython",
    "version": 3
   },
   "file_extension": ".py",
   "mimetype": "text/x-python",
   "name": "python",
   "nbconvert_exporter": "python",
   "pygments_lexer": "ipython3",
   "version": "3.9.2"
  },
  "orig_nbformat": 2,
  "kernelspec": {
   "name": "python392jvsc74a57bd0aee8b7b246df8f9039afb4144a1f6fd8d2ca17a180786b69acc140d282b71a49",
   "display_name": "Python 3.9.2 64-bit"
  },
  "metadata": {
   "interpreter": {
    "hash": "aee8b7b246df8f9039afb4144a1f6fd8d2ca17a180786b69acc140d282b71a49"
   }
  }
 },
 "nbformat": 4,
 "nbformat_minor": 2,
 "cells": [
  {
   "cell_type": "code",
   "execution_count": null,
   "metadata": {},
   "outputs": [],
   "source": [
    "def ekleme(e,l,p):\n",
    "    l.insert(p,e)\n",
    "    return l\n",
    "\n",
    "listem = [1,2,3,4,6]\n",
    "eleman = 'kirmizi'\n",
    "pozisyon = 3\n",
    "print(ekleme(eleman,listem,pozisyon))"
   ]
  },
  {
   "cell_type": "code",
   "execution_count": null,
   "metadata": {},
   "outputs": [],
   "source": [
    "def listekaydir(l,y,a):  #l liste,  y yonu  , a adim\n",
    "    if y == 'sag':\n",
    "        sonuc = l[-a:] + l[:-a]\n",
    "    if y == 'sol':\n",
    "        sonuc = l[a:] + l[:a]\n",
    "    return sonuc\n",
    "\n",
    "print(listekaydir([1,2,3,4,5,6],'sol',2))\n",
    "print(listekaydir([1,2,3,4,5,6],'sag',2))"
   ]
  },
  {
   "cell_type": "code",
   "execution_count": 1,
   "metadata": {},
   "outputs": [],
   "source": [
    "def model1(n): # n boyut\n",
    "    for i in range(n):      # tum satir icin \n",
    "        for j in range(n):      # satirdaki tekrar eden semboller icin\n",
    "            if i%2==0:\n",
    "                print('.', end = ' ')\n",
    "            else:\n",
    "                print('#', end = ' ')\n",
    "        print()\n",
    "\n",
    "model1(10)"
   ]
  }
 ]
}