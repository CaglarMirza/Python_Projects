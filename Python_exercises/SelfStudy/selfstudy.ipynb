{
 "metadata": {
  "language_info": {
   "codemirror_mode": {
    "name": "ipython",
    "version": 3
   },
   "file_extension": ".py",
   "mimetype": "text/x-python",
   "name": "python",
   "nbconvert_exporter": "python",
   "pygments_lexer": "ipython3",
   "version": "3.9.2"
  },
  "orig_nbformat": 2,
  "kernelspec": {
   "name": "python392jvsc74a57bd0aee8b7b246df8f9039afb4144a1f6fd8d2ca17a180786b69acc140d282b71a49",
   "display_name": "Python 3.9.2 64-bit"
  },
  "metadata": {
   "interpreter": {
    "hash": "7812ea015bdcee6f23a998adcdd2ef97c151c0c241b7b7070987d9313e41299d"
   }
  }
 },
 "nbformat": 4,
 "nbformat_minor": 2,
 "cells": [
  {
   "cell_type": "code",
   "execution_count": null,
   "metadata": {},
   "outputs": [],
   "source": [
    "def isValid(s):\n",
    "    bracket_map = {\"(\": \")\", \"[\": \"]\",  \"{\": \"}\"}\n",
    "    open_par = set([\"(\", \"[\", \"{\"])\n",
    "    stack = []\n",
    "    for i in s:\n",
    "        if i in open_par:\n",
    "            stack.append(i)\n",
    "        elif stack and i == bracket_map[stack[-1]]:\n",
    "            stack.pop()\n",
    "        else:\n",
    "            return False\n",
    "    return stack == []\n",
    "combination = input('Write a string that contains only `(`, `)`, `{`, `}`, `[` and `]`: ')\n",
    "print(isValid(combination))"
   ]
  },
  {
   "cell_type": "code",
   "execution_count": null,
   "metadata": {},
   "outputs": [],
   "source": [
    "# A function that returns the 'year' value:\n",
    "def myFunc(e):\n",
    "  return e['year']\n",
    "\n",
    "cars = [\n",
    "  {'car': 'Ford', 'year': 2005},\n",
    "  {'car': 'Mitsubishi', 'year': 2000},\n",
    "  {'car': 'BMW', 'year': 2019},\n",
    "  {'car': 'VW', 'year': 2011}\n",
    "]\n",
    "\n",
    "cars.sort(key=myFunc)\n",
    "print(cars)"
   ]
  },
  {
   "cell_type": "code",
   "execution_count": 1,
   "metadata": {},
   "outputs": [
    {
     "output_type": "stream",
     "name": "stdout",
     "text": [
      "['1 : odd', '2 : even', '3 : odd', '4 : even']\n"
     ]
    }
   ],
   "source": [
    "print(list(map((lambda x : f\"{x} : even\" if x%2 == 0 else f\"{x} : odd\"),([1,2,3,4]))))"
   ]
  },
  {
   "cell_type": "code",
   "execution_count": null,
   "metadata": {},
   "outputs": [],
   "source": [
    "letter1 = ['o', 's', 't', 't']\n",
    "letter2 = ['n', 'i', 'e', 'w']\n",
    "letter3 = ['e', 'x', 'n']\n",
    "numbers = map(lambda x, y, z: x+y+z, letter1, letter2, letter3)\n",
    "\n",
    "print(list(numbers))"
   ]
  },
  {
   "cell_type": "code",
   "execution_count": null,
   "metadata": {},
   "outputs": [],
   "source": [
    "def modular_function(n):\n",
    "    return lambda x: x ** n\n",
    "    \n",
    "power_of_2 = modular_function(2)  # first sub-function derived from def\n",
    "power_of_3 = modular_function(3)  # second sub-function derived from def\n",
    "power_of_4 = modular_function(4)  # third sub-function derived from def\n",
    "\n",
    "print(power_of_2(2))  # 2 to the power of 2\n",
    "print(power_of_3(2))  # 2 to the power of 3\n",
    "print(power_of_4(2))  # 2 to the power of 4"
   ]
  },
  {
   "cell_type": "code",
   "execution_count": 1,
   "metadata": {},
   "outputs": [
    {
     "output_type": "stream",
     "name": "stdout",
     "text": [
      "alex alex \nlara lara lara \nlinda linda linda linda \n"
     ]
    }
   ],
   "source": [
    "def repeater(n):\n",
    "    return lambda x: x * n\n",
    "    \n",
    "repeat_2_times = repeater(2)  # repeats 2 times\n",
    "repeat_3_times = repeater(3)  # repeats 3 times\n",
    "repeat_4_times = repeater(4)  # repeats 4 times\n",
    "\n",
    "print(repeat_2_times('alex '))\n",
    "print(repeat_3_times('lara '))\n",
    "print(repeat_4_times('linda '))"
   ]
  },
  {
   "cell_type": "code",
   "execution_count": 1,
   "metadata": {},
   "outputs": [
    {
     "output_type": "stream",
     "name": "stdout",
     "text": [
      "adam\n"
     ]
    }
   ],
   "source": [
    "f = lambda: \"adam\"\n",
    "print(f())"
   ]
  },
  {
   "cell_type": "code",
   "execution_count": 2,
   "metadata": {},
   "outputs": [
    {
     "output_type": "stream",
     "name": "stdout",
     "text": [
      "['ali alabora', 'sali bakan', 'haluk bilginer', 'Halit ergenc', 'ece uslu']\n"
     ]
    }
   ],
   "source": [
    "namelist = ['ali alabora', 'sali bakan', 'Halit ergenc', 'haluk bilginer', 'ece uslu']\n",
    "def sortkey(name):\n",
    "    splitlist = name.split(' ')\n",
    "    return splitlist[-1].lower()\n",
    "namelist.sort(key= sortkey)\n",
    "print(namelist)"
   ]
  },
  {
   "cell_type": "code",
   "execution_count": 4,
   "metadata": {},
   "outputs": [
    {
     "output_type": "stream",
     "name": "stdout",
     "text": [
      "['ali alabora', 'sali bakan', 'haluk bilginer', 'Halit ergenc', 'ece uslu']\n"
     ]
    }
   ],
   "source": [
    "namelist = ['ali alabora', 'sali bakan', 'Halit ergenc', 'haluk bilginer', 'ece uslu']\n",
    "\n",
    "namelist.sort(key= lambda name: name.split(' ')[-1].lower())\n",
    "print(namelist)"
   ]
  },
  {
   "cell_type": "code",
   "execution_count": 2,
   "metadata": {},
   "outputs": [
    {
     "output_type": "stream",
     "name": "stdout",
     "text": [
      "['ali alabora', 'sali bakan', 'Halit ergenc', 'haluk bilginer', 'ece uslu']\n"
     ]
    }
   ],
   "source": [
    "namelist = ['ali alabora', 'sali bakan', 'Halit ergenc', 'haluk bilginer', 'ece uslu']\n",
    "\n",
    "sorted(namelist)\n",
    "print(namelist)"
   ]
  },
  {
   "cell_type": "code",
   "execution_count": null,
   "metadata": {},
   "outputs": [],
   "source": [
    "         \n",
    "print(['fizbuzz'  if not i%15 else 'buzz' if not i%5 else \"buzz\" if not i%3 else i for i in range(1,16)])"
   ]
  },
  {
   "cell_type": "code",
   "execution_count": null,
   "metadata": {},
   "outputs": [],
   "source": [
    "         \n",
    "print(['fizbuzz'  if not i%15 else 'buzz' if not i%5 else \"buzz\" if not i%3 else i for i in range(1,16)])\n"
   ]
  },
  {
   "cell_type": "code",
   "execution_count": null,
   "metadata": {},
   "outputs": [],
   "source": [
    "liste = ['A', 'B', 'C']\n",
    "mylist = []\n",
    "for i in liste:\n",
    "    for x in liste:\n",
    "        for y in liste:\n",
    "            mylist.append([i,x,y])\n",
    "newlist = []\n",
    "for m in mylist:\n",
    "    if m not in newlist and len(set(m)) == len(liste):\n",
    "        newlist.append(m)\n",
    "print(newlist)\n",
    "#############\n",
    "liste = [1,2,3,4]\n",
    "per_liste = [(a, b, c, d) for a in liste for b in liste for c in liste for d in liste if ( a != b and b != c and a != c and a!=d and b!=d and c!=d)]\n",
    "print(*per_liste, sep=\"\\n\")"
   ]
  },
  {
   "cell_type": "code",
   "execution_count": 2,
   "metadata": {},
   "outputs": [
    {
     "output_type": "stream",
     "name": "stdout",
     "text": [
      "print(value, ..., sep=' ', end='\\n', file=sys.stdout, flush=False)\n\nPrints the values to a stream, or to sys.stdout by default.\nOptional keyword arguments:\nfile:  a file-like object (stream); defaults to the current sys.stdout.\nsep:   string inserted between values, default a space.\nend:   string appended after the last value, default a newline.\nflush: whether to forcibly flush the stream.\n"
     ]
    }
   ],
   "source": [
    "print(print.__doc__)"
   ]
  },
  {
   "cell_type": "code",
   "execution_count": null,
   "metadata": {},
   "outputs": [],
   "source": [
    "for h in range(2,100):         # Tek satirda yazmayi dene\n",
    "    if h > 1:\n",
    "        for g in range(2,h):\n",
    "            if h%g == 0:\n",
    "                break\n",
    "        else: \n",
    "            print(h)"
   ]
  },
  {
   "cell_type": "code",
   "execution_count": null,
   "metadata": {},
   "outputs": [],
   "source": []
  },
  {
   "cell_type": "code",
   "execution_count": null,
   "metadata": {},
   "outputs": [],
   "source": []
  }
 ]
}