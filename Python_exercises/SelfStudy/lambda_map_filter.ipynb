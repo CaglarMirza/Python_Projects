{
 "metadata": {
  "language_info": {
   "codemirror_mode": {
    "name": "ipython",
    "version": 3
   },
   "file_extension": ".py",
   "mimetype": "text/x-python",
   "name": "python",
   "nbconvert_exporter": "python",
   "pygments_lexer": "ipython3",
   "version": "3.9.2"
  },
  "orig_nbformat": 2,
  "kernelspec": {
   "name": "python392jvsc74a57bd0aee8b7b246df8f9039afb4144a1f6fd8d2ca17a180786b69acc140d282b71a49",
   "display_name": "Python 3.9.2 64-bit"
  },
  "metadata": {
   "interpreter": {
    "hash": "7812ea015bdcee6f23a998adcdd2ef97c151c0c241b7b7070987d9313e41299d"
   }
  }
 },
 "nbformat": 4,
 "nbformat_minor": 2,
 "cells": [
  {
   "cell_type": "code",
   "execution_count": null,
   "metadata": {},
   "outputs": [],
   "source": [
    "friends={\"ali\":20,\n",
    "         \"ahmet\":25,\n",
    "         \"zeynep\":26}\n",
    "def meaner(**kwargs):\n",
    "    a =sum([i for i in kwargs.values()])\n",
    "    return a/len(kwargs)\n",
    "print(meaner(**friends))"
   ]
  },
  {
   "cell_type": "code",
   "execution_count": null,
   "metadata": {},
   "outputs": [],
   "source": [
    "x = lambda a : f'{a} : odd' if a%2 else f'{a} : even'\n",
    "print(x(7))"
   ]
  },
  {
   "cell_type": "code",
   "execution_count": 1,
   "metadata": {},
   "outputs": [
    {
     "output_type": "execute_result",
     "data": {
      "text/plain": [
       "'odd'"
      ]
     },
     "metadata": {},
     "execution_count": 1
    }
   ],
   "source": [
    "(lambda x:(x % 2 and 'odd' or 'even'))(3)"
   ]
  },
  {
   "cell_type": "code",
   "execution_count": null,
   "metadata": {},
   "outputs": [],
   "source": [
    "# x = lambda *args :(for i in args f'{i} : odd' if i%2 else f'{i} : even')\n",
    "# print(x([7,5,6,8]))\n",
    "\n",
    "a = map((lambda b: \"odd\" if b%2 else 'even'),[3,5,7,8,4])\n",
    "print(list(a))"
   ]
  },
  {
   "cell_type": "code",
   "execution_count": null,
   "metadata": {},
   "outputs": [],
   "source": [
    "liste = [1,2,3,4,5,6]\n",
    "def a(n):\n",
    "  return n**2\n",
    "print(list(map(a, liste)))"
   ]
  },
  {
   "cell_type": "code",
   "execution_count": null,
   "metadata": {},
   "outputs": [],
   "source": [
    "string_sayı = \"123456\"\n",
    "print(list(map(int, string_sayı)))"
   ]
  },
  {
   "cell_type": "code",
   "execution_count": null,
   "metadata": {},
   "outputs": [],
   "source": [
    "l1 = [1,2,3]\n",
    "l2 = [4,5,6]\n",
    "l3 = [7,8,9, 3]\n",
    "numbers  = map(lambda x,y,z : x+y+z, l1,l2,l3)\n",
    "print(list(numbers))"
   ]
  },
  {
   "cell_type": "code",
   "execution_count": null,
   "metadata": {},
   "outputs": [],
   "source": [
    "letter1 = [\"a\", \"b\", \"c\"]\n",
    "letter2 = [\"x\", \"y\", \"z\"]\n",
    "s = map(zip, letter1, letter2)\n",
    "for i in s :\n",
    "    for ii in i :\n",
    "        print(ii)\n",
    "print(*s)"
   ]
  },
  {
   "cell_type": "code",
   "execution_count": null,
   "metadata": {},
   "outputs": [],
   "source": [
    "letter1=['a','b','c']\n",
    "letter2=['x','y','z']\n",
    "yapıştır=map(zip, letter1,letter2)\n",
    "for i in yapıştır:\n",
    "    print(*i)   "
   ]
  },
  {
   "cell_type": "code",
   "execution_count": null,
   "metadata": {},
   "outputs": [],
   "source": [
    "def emrah(x):\n",
    "    return lambda n : x(n)\n",
    "\n",
    "myprint = emrah(print)\n",
    "myprint('addbf')"
   ]
  },
  {
   "cell_type": "code",
   "execution_count": null,
   "metadata": {},
   "outputs": [],
   "source": [
    "alf_ten = list('abcdefghij')\n",
    "vowel = list('aeiou')\n",
    "print(*(i for i in filter(lambda x: x in vowel, alf_ten)))"
   ]
  },
  {
   "cell_type": "code",
   "execution_count": null,
   "metadata": {},
   "outputs": [],
   "source": [
    "def repeater(n):\n",
    "    return lambda x: x * n\n",
    "print(repeater(5)(\"a\"))"
   ]
  },
  {
   "cell_type": "code",
   "execution_count": 1,
   "metadata": {},
   "outputs": [
    {
     "output_type": "stream",
     "name": "stdout",
     "text": [
      "y\n"
     ]
    }
   ],
   "source": [
    "x = 'y'\n",
    "y = print\n",
    "y(x)"
   ]
  },
  {
   "cell_type": "code",
   "execution_count": 2,
   "metadata": {},
   "outputs": [
    {
     "output_type": "stream",
     "name": "stdout",
     "text": [
      "y\n"
     ]
    }
   ],
   "source": [
    "p = print\n",
    "p('y')"
   ]
  },
  {
   "cell_type": "code",
   "execution_count": null,
   "metadata": {},
   "outputs": [],
   "source": [
    "def func_generator(func):\n",
    "    return lambda x: func(x)\n",
    "print((lambda x: max(x))((1, 6, 99)))\n",
    "emir_sorted = func_generator(sorted)\n",
    "print(emir_sorted([1, 6, 8, 3, 1]))"
   ]
  },
  {
   "cell_type": "code",
   "execution_count": null,
   "metadata": {},
   "outputs": [],
   "source": [
    "word  = (lambda x,y : x*y)(3,\"hello\")\n",
    "print(word)"
   ]
  },
  {
   "cell_type": "code",
   "execution_count": 1,
   "metadata": {},
   "outputs": [
    {
     "output_type": "stream",
     "name": "stdout",
     "text": [
      "1 False 3 False 5 False 7 False 9 False\n"
     ]
    }
   ],
   "source": [
    "listem = [1,2,3,4,5,6,7,8,9,10]\n",
    "sonuc= map(lambda x: x if x % 2 else False , listem)\n",
    "print(*sonuc)"
   ]
  },
  {
   "cell_type": "code",
   "execution_count": 2,
   "metadata": {},
   "outputs": [
    {
     "output_type": "stream",
     "name": "stdout",
     "text": [
      "1 3 5 7 9\n"
     ]
    }
   ],
   "source": [
    "listem = [1,2,3,4,5,6,7,8,9,10]\n",
    "sonuc= filter(lambda x: x if x % 2 else False , listem)\n",
    "print(*sonuc)"
   ]
  },
  {
   "cell_type": "code",
   "execution_count": 3,
   "metadata": {},
   "outputs": [
    {
     "output_type": "stream",
     "name": "stdout",
     "text": [
      "[1, 3, 5, 7, 9]\n"
     ]
    }
   ],
   "source": [
    "number_list=[1, 2, 3, 4, 5, 6, 7, 8, 9, 10]\n",
    "result = list(filter(lambda x: True if x%2 !=0 else False, number_list))\n",
    "print(result)"
   ]
  },
  {
   "cell_type": "code",
   "execution_count": 4,
   "metadata": {},
   "outputs": [
    {
     "output_type": "stream",
     "name": "stdout",
     "text": [
      "(1, 4) (2, 5) (3, 6)\n"
     ]
    }
   ],
   "source": [
    "a = [1,2,3]\n",
    "b = [4,5,6]\n",
    "print(*filter(lambda x: x[0] + x[1], zip(a,b)))\n"
   ]
  },
  {
   "cell_type": "code",
   "execution_count": null,
   "metadata": {},
   "outputs": [],
   "source": [
    "vowel_list = ['a', 'e', 'i', 'o', 'u']\n",
    "first_ten = ['a', 'b', 'c', 'd', 'e', 'f', 'g', 'h', 'i', 'j']\n",
    "vowels = filter(lambda x: 0 if x in vowel_list else 1,first_ten)\n",
    "print(*vowels)"
   ]
  },
  {
   "cell_type": "code",
   "execution_count": null,
   "metadata": {},
   "outputs": [],
   "source": [
    "mytring = list('Her soru cozumuyle kodlamaaaaa becerim gelisiyor')\n",
    "vowel = list('aeiuo')\n",
    "\n",
    "print(list(map(lambda x :True if x in vowel else False, mytring)).count(True))\n",
    "\n",
    "\n",
    "print(len(list(filter(lambda x :True if x in vowel else False,mytring))))"
   ]
  }
 ]
}