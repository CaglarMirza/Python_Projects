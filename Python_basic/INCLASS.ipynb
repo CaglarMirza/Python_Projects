{
 "metadata": {
  "language_info": {
   "codemirror_mode": {
    "name": "ipython",
    "version": 3
   },
   "file_extension": ".py",
   "mimetype": "text/x-python",
   "name": "python",
   "nbconvert_exporter": "python",
   "pygments_lexer": "ipython3",
   "version": "3.9.2"
  },
  "orig_nbformat": 2,
  "kernelspec": {
   "name": "python392jvsc74a57bd0aee8b7b246df8f9039afb4144a1f6fd8d2ca17a180786b69acc140d282b71a49",
   "display_name": "Python 3.9.2 64-bit"
  },
  "metadata": {
   "interpreter": {
    "hash": "7812ea015bdcee6f23a998adcdd2ef97c151c0c241b7b7070987d9313e41299d"
   }
  }
 },
 "nbformat": 4,
 "nbformat_minor": 2,
 "cells": [
  {
   "cell_type": "code",
   "execution_count": 4,
   "metadata": {},
   "outputs": [
    {
     "output_type": "stream",
     "name": "stdout",
     "text": [
      "rr\npp\nqq\n"
     ]
    }
   ],
   "source": [
    "for x in set('pqr'):\n",
    "    print(x*2)"
   ]
  },
  {
   "cell_type": "code",
   "execution_count": 5,
   "metadata": {},
   "outputs": [],
   "source": [
    "for i in range(2,2):\n",
    "    print(i)"
   ]
  },
  {
   "cell_type": "code",
   "execution_count": 5,
   "metadata": {},
   "outputs": [
    {
     "output_type": "stream",
     "name": "stdout",
     "text": [
      "rr\npp\nqq\n"
     ]
    }
   ],
   "source": [
    "for x in set('pqr'):\n",
    "    print(x*2)"
   ]
  },
  {
   "cell_type": "code",
   "execution_count": 4,
   "metadata": {},
   "outputs": [],
   "source": [
    "test = [22,5,11,7,19,4,12]\n",
    "hedef = 24\n",
    "sol = 0\n",
    "sag = len(test) -1\n",
    "while sol < sag:\n",
    "    if test[sol] + test[sag] == hedef:\n",
    "        print(\"oketb\")\n",
    "    else:\n",
    "        sol += 1"
   ]
  },
  {
   "cell_type": "code",
   "execution_count": 6,
   "metadata": {},
   "outputs": [
    {
     "output_type": "stream",
     "name": "stdout",
     "text": [
      "[[3, 7], [7, 3]]\n"
     ]
    }
   ],
   "source": [
    "test1 = [8,2,4,7,1,5,6,9] \n",
    "hedef = 16\n",
    "liste = []\n",
    "for i in test1:\n",
    "    for x in test1:\n",
    "        if i == x:\n",
    "            continue\n",
    "        elif i + x == hedef:\n",
    "            liste.append([test1.index(i), test1.index(x)])\n",
    "            \n",
    "print(liste)"
   ]
  },
  {
   "cell_type": "code",
   "execution_count": 5,
   "metadata": {},
   "outputs": [
    {
     "output_type": "stream",
     "name": "stdout",
     "text": [
      "3,7\n"
     ]
    }
   ],
   "source": [
    "###raifi\n",
    "liste = [8,2,4,7,1,5,6,9]\n",
    "hedef = 16\n",
    "ind=[]\n",
    "for i in range(len(liste)):  \n",
    "  for k in range(i+1,len(liste)): #i indexinden sonraki değerlere bak.\n",
    "    if liste[i]+liste[k]==hedef:\n",
    "      if i not in ind:\n",
    "        ind.append(i)\n",
    "      if k not in ind:\n",
    "        ind.append(k)\n",
    "print(*ind, sep=\",\")"
   ]
  },
  {
   "cell_type": "code",
   "execution_count": 7,
   "metadata": {},
   "outputs": [
    {
     "output_type": "stream",
     "name": "stdout",
     "text": [
      "şartı sağlayan index numaraları:  3 7 "
     ]
    }
   ],
   "source": [
    "#forest\n",
    "test1 = [8,2,4,7,1,5,6,9] \n",
    "item = []\n",
    "for i in test1 :\n",
    "    for j in test1 :\n",
    "        if i + j == 16:\n",
    "            if test1.index(i) == test1.index(j):\n",
    "                pass\n",
    "            else:\n",
    "                item.append(test1.index(i))\n",
    "print(\"şartı sağlayan index numaraları: \",*item, end = \" \")"
   ]
  },
  {
   "cell_type": "code",
   "execution_count": 8,
   "metadata": {},
   "outputs": [
    {
     "output_type": "stream",
     "name": "stdout",
     "text": [
      "[[3, 7]]\n"
     ]
    }
   ],
   "source": [
    "test1 = [8,2,4,7,1,5,6,9] \n",
    "hedef = 16\n",
    "liste = []\n",
    "for i in range(len(test1)-1,-1,-1):\n",
    "    for x in test1:\n",
    "        if i == x:\n",
    "            continue\n",
    "        elif i + x == hedef:\n",
    "            liste.append([test1.index(i), test1.index(x)])\n",
    "            \n",
    "print(liste)"
   ]
  },
  {
   "cell_type": "code",
   "execution_count": 2,
   "metadata": {},
   "outputs": [
    {
     "output_type": "error",
     "ename": "IndentationError",
     "evalue": "expected an indented block (<ipython-input-2-50321edc1550>, line 8)",
     "traceback": [
      "\u001b[0;36m  File \u001b[0;32m\"<ipython-input-2-50321edc1550>\"\u001b[0;36m, line \u001b[0;32m8\u001b[0m\n\u001b[0;31m    liste.append([test1.index(i), test1.index(x)])\u001b[0m\n\u001b[0m    ^\u001b[0m\n\u001b[0;31mIndentationError\u001b[0m\u001b[0;31m:\u001b[0m expected an indented block\n"
     ]
    }
   ],
   "source": [
    "test1 = [8,2,4,7,1,5,6,9,6,7,95,4,7,9,2,3,6,8,9,6,4,3,56,8] \n",
    "hedef = 16\n",
    "liste = []\n",
    "for i in range(len(test1)-1,-1,-1):\n",
    "    for x in test1:\n",
    "        if x < i:\n",
    "            if test1[i] + test1[x] == hedef:\n",
    "            liste.append([test1.index(i), test1.index(x)])\n",
    "        else:\n",
    "            break\n",
    "        \n",
    "            \n",
    "print(liste)\n"
   ]
  },
  {
   "cell_type": "code",
   "execution_count": 7,
   "metadata": {},
   "outputs": [
    {
     "output_type": "error",
     "ename": "SyntaxError",
     "evalue": "invalid syntax (<ipython-input-7-d89ccaaa877f>, line 1)",
     "traceback": [
      "\u001b[0;36m  File \u001b[0;32m\"<ipython-input-7-d89ccaaa877f>\"\u001b[0;36m, line \u001b[0;32m1\u001b[0m\n\u001b[0;31m    for x in set('pqr'*):\u001b[0m\n\u001b[0m                       ^\u001b[0m\n\u001b[0;31mSyntaxError\u001b[0m\u001b[0;31m:\u001b[0m invalid syntax\n"
     ]
    }
   ],
   "source": [
    "for x in set('pqr'):\n",
    "    print(x*2)"
   ]
  },
  {
   "cell_type": "code",
   "execution_count": 8,
   "metadata": {},
   "outputs": [
    {
     "output_type": "stream",
     "name": "stdout",
     "text": [
      "100\n"
     ]
    }
   ],
   "source": [
    "x= 0 \n",
    "while x < 100:\n",
    "    x +=2\n",
    "print(x)"
   ]
  },
  {
   "cell_type": "code",
   "execution_count": null,
   "metadata": {},
   "outputs": [],
   "source": [
    "age = input(\"yes no:\")\n",
    "if age!=\"yes\" or age!=\"no\":\n",
    "    age = input(\"yes no:\")\n",
    "else:\n",
    "    print(age)"
   ]
  },
  {
   "cell_type": "code",
   "execution_count": 9,
   "metadata": {},
   "outputs": [
    {
     "output_type": "stream",
     "name": "stdout",
     "text": [
      "\n Sayının Ters Çevrilmiş Hali = 85785643\n"
     ]
    }
   ],
   "source": [
    "sayi = int(input(\"Sayıyı Gir : \"))\n",
    "ters = 0\n",
    "while(sayi > 0):\n",
    "    gecici = sayi %10\n",
    "    ters = (ters *10) + gecici\n",
    "    sayi = sayi //10\n",
    "print(\"\\n Sayının Ters Çevrilmiş Hali = %d\" %ters)"
   ]
  },
  {
   "cell_type": "code",
   "execution_count": 2,
   "metadata": {},
   "outputs": [
    {
     "output_type": "stream",
     "name": "stdout",
     "text": [
      " It is an invalid entry. Don't use non-numeric, float, or negative values!\n"
     ]
    }
   ],
   "source": [
    "value = input(\"Please enter a integer number : \")\n",
    "deger = []\n",
    "if not (value.isnumeric()):\n",
    "    print(\" It is an invalid entry. Don't use non-numeric, float, or negative values!\")\n",
    "else:\n",
    "    for i in list(value):\n",
    "        deger.append(int(i)**len(value))\n",
    "\n",
    "    if sum(deger) == int(value):\n",
    "        print(f\"{value} is an Armstrong number\")\n",
    "    else:\n",
    "        print(f\"{value} is not an Armstrong number\")"
   ]
  },
  {
   "cell_type": "code",
   "execution_count": null,
   "metadata": {},
   "outputs": [],
   "source": [
    "sum(range(1,75))\n",
    "# liste = []\n",
    "# for i in range(75):\n",
    "#     liste.append(i)\n",
    "# summ = sum(liste)\n",
    "# print(summ)"
   ]
  },
  {
   "cell_type": "code",
   "execution_count": null,
   "metadata": {},
   "outputs": [],
   "source": [
    "names = [1,2,3,4,5,6,7,8] \n",
    "\n",
    "\n",
    "print([i**2 for i in names if i%2 ==1])"
   ]
  },
  {
   "cell_type": "code",
   "execution_count": null,
   "metadata": {},
   "outputs": [],
   "source": [
    "d = '  Gungectikce       iyamaldok   daha koc seviyorum'\n",
    "z = ' '.join(y[::-1] if x%2 else y for x,y in enumerate(d.split()))\n",
    "print(z)"
   ]
  },
  {
   "cell_type": "code",
   "execution_count": null,
   "metadata": {},
   "outputs": [],
   "source": [
    "while True: \n",
    "    value = input(\"Please write a number : \")\n",
    "    if  value.isnumeric():\n",
    "        if int(value) == 1:\n",
    "            print(f\"{value} is not a prime number\")\n",
    "        # elif int(value) == 2:\n",
    "        #     print(f\"{value} is a prime number\")\n",
    "        else:\n",
    "            for i in range(2,int(value)):\n",
    "                if (int(value)%i) == 0:\n",
    "                    print(f\"{value} is NOT a prime number.\")\n",
    "                    break\n",
    "            else:\n",
    "                print(f\"{value} is a prime number.\")\n",
    "    else:\n",
    "        print(\"invalid value, try again\")"
   ]
  },
  {
   "cell_type": "code",
   "execution_count": null,
   "metadata": {},
   "outputs": [],
   "source": [
    "def multiply_1(a, b) :\n",
    "    print(a * b)  # it prints something\n",
    "\n",
    "def multiply_2(a, b) :\n",
    "    return a * b  # returns any numeric data type value\n",
    "\n",
    "multiply_1(10, 5)\n",
    "print(multiply_2(10, 5))\n",
    "\n",
    "print(type(multiply_1(10, 2)))\n",
    "print(type(multiply_2(10, 5)))"
   ]
  },
  {
   "cell_type": "code",
   "execution_count": null,
   "metadata": {},
   "outputs": [],
   "source": [
    "def my_function(a,b):\n",
    "    print(a*b)\n",
    "print(my_function(10,20))v"
   ]
  },
  {
   "cell_type": "code",
   "execution_count": 2,
   "metadata": {},
   "outputs": [
    {
     "output_type": "stream",
     "name": "stdout",
     "text": [
      "200\n"
     ]
    },
    {
     "output_type": "execute_result",
     "data": {
      "text/plain": [
       "200"
      ]
     },
     "metadata": {},
     "execution_count": 2
    }
   ],
   "source": [
    "def my_function(a,b):\n",
    "    return a*b\n",
    "\n",
    "\n",
    "my_function(10,20)\n",
    "print(my_function(10,20))\n",
    "my_function(10,20)\n",
    "\n"
   ]
  },
  {
   "cell_type": "code",
   "execution_count": 3,
   "metadata": {},
   "outputs": [
    {
     "output_type": "stream",
     "name": "stdout",
     "text": [
      "200\n200\nNone\n200\n"
     ]
    }
   ],
   "source": [
    "def my_function(a,b):\n",
    "    print(a*b)\n",
    "\n",
    "\n",
    "my_function(10,20)\n",
    "print(my_function(10,20))\n",
    "my_function(10,20)\n"
   ]
  },
  {
   "cell_type": "code",
   "execution_count": null,
   "metadata": {},
   "outputs": [],
   "source": [
    "def parrot(voltage, state='a stiff', action='voom', type='Norwegian Blue'):\n",
    "    print(\"-- This parrot wouldn't\", action, end=' ')\n",
    "    print(\"if you put\", voltage, \"volts through it.\")\n",
    "    print(\"-- Lovely plumage, the\", type)\n",
    "    print(\"-- It's\", state, \"!\")\n",
    "\n",
    "parrot(1000)                                          # 1 positional argument\n",
    "parrot(voltage=1000)                                  # 1 keyword argument\n",
    "parrot(voltage=1000000, action='VOOOOOM')             # 2 keyword arguments\n",
    "parrot(action='VOOOOOM', voltage=1000000)             # 2 keyword arguments \n",
    "parrot('a million', 'bereft of life', 'jump')         # 3 positional arguments\n",
    "parrot('a thousand', state='pushing up the daisies')  # 1 positional, 1 keyword"
   ]
  },
  {
   "cell_type": "code",
   "execution_count": null,
   "metadata": {},
   "outputs": [],
   "source": [
    "print(type(print(\"type\", print(\"print\"))))"
   ]
  },
  {
   "cell_type": "code",
   "execution_count": null,
   "metadata": {},
   "outputs": [],
   "source": [
    "numbers = [2.5, 30, 4, -15]\n",
    "numbers_sum = sum(numbers)\n",
    "print(numbers_sum)\n",
    "numbers_sum = sum(numbers, numbers_sum)\n",
    "print(numbers_sum)"
   ]
  },
  {
   "cell_type": "code",
   "execution_count": null,
   "metadata": {},
   "outputs": [],
   "source": [
    "grocery = \"bread\", \"water\", \"oil\"\n",
    "enum_grocery = list(enumerate(grocery,1000))\n",
    "print(enum_grocery)"
   ]
  },
  {
   "cell_type": "code",
   "execution_count": 1,
   "metadata": {},
   "outputs": [
    {
     "output_type": "stream",
     "name": "stdout",
     "text": [
      "5\n6\n7\n8\n"
     ]
    }
   ],
   "source": [
    "i = 5\n",
    "while True:\n",
    "    if i%0O11 == 0:\n",
    "        break\n",
    "    print(i)\n",
    "    i += 1"
   ]
  },
  {
   "cell_type": "code",
   "execution_count": 5,
   "metadata": {},
   "outputs": [
    {
     "output_type": "stream",
     "name": "stdout",
     "text": [
      "3\n"
     ]
    }
   ],
   "source": [
    "x = 'abcd'\n",
    "for i in range(len(x)):\n",
    " x[i].upper()\n",
    "print (i)"
   ]
  },
  {
   "cell_type": "code",
   "execution_count": 1,
   "metadata": {},
   "outputs": [
    {
     "output_type": "stream",
     "name": "stdout",
     "text": [
      "False\n"
     ]
    }
   ],
   "source": [
    "print(\"a\"==\"a\".upper())"
   ]
  },
  {
   "cell_type": "code",
   "execution_count": 2,
   "metadata": {},
   "outputs": [
    {
     "output_type": "execute_result",
     "data": {
      "text/plain": [
       "[0, 1, 2, 3, 4, 5, 6, 7, 8, 9]"
      ]
     },
     "metadata": {},
     "execution_count": 2
    }
   ],
   "source": [
    "list(range(10))"
   ]
  },
  {
   "cell_type": "code",
   "execution_count": 4,
   "metadata": {},
   "outputs": [
    {
     "output_type": "stream",
     "name": "stdout",
     "text": [
      "[1, 1, 2, 3, 5, 8, 13, 21, 34, 55]\n"
     ]
    }
   ],
   "source": [
    "liste = []\n",
    "for i in range(10):\n",
    "    liste.append(1 if i<=1 else liste[i-2]+liste[i-1] )\n",
    "\n",
    "print(liste)\n"
   ]
  },
  {
   "cell_type": "code",
   "execution_count": null,
   "metadata": {},
   "outputs": [],
   "source": [
    "liste = [75,73,60,100,120,130]\n",
    "hisse = []\n",
    "for  i in range(len(liste)):\n",
    "    for x in range(i+1, len(liste)):\n",
    "        if liste[x] > liste[i]:\n",
    "            hisse.append(liste[x]-liste[i])\n",
    "print(max(hisse))"
   ]
  },
  {
   "cell_type": "code",
   "execution_count": null,
   "metadata": {},
   "outputs": [],
   "source": [
    "\n",
    "def squery(char):\n",
    "    if len(tuple(char)) == 0:\n",
    "        return True\n",
    "    elif (len(set(char))%2) and :\n",
    "        return False\n",
    "    else:\n",
    "        if tuple(char).count('(') == tuple(char).count(')') and\\\n",
    "           tuple(char).count('{') == tuple(char).count('}') and\\\n",
    "            tuple(char).count('[') == tuple(char).count(']'):\n",
    "            return True\n",
    "        else:\n",
    "            return False\n",
    "            \n",
    "\n",
    "\n",
    "print(squery(''))"
   ]
  },
  {
   "cell_type": "code",
   "execution_count": null,
   "metadata": {},
   "outputs": [],
   "source": [
    "def squery(char):\n",
    "    if len(tuple(char)) == 0:\n",
    "        return True\n",
    "    elif (len(set(char))%2) and len(tuple(char))%2:\n",
    "        return False\n",
    "    else:\n",
    "        x = len(char)//2 \n",
    "        y = len(char)//2+1\n",
    "        while y< len(char):\n",
    "            if x in  [')','}',']']:\n",
    "                x -= 1\n",
    "                y+=1\n",
    "                return True\n",
    "\n",
    "            else:\n",
    "                return False\n",
    "                break\n",
    "\n",
    "print(squery('([])'))"
   ]
  },
  {
   "cell_type": "code",
   "execution_count": null,
   "metadata": {},
   "outputs": [],
   "source": [
    "def squery(char):\n",
    "    liste = list(char)\n",
    "    sozluk = {\n",
    "    \"(\":')','[':']','{':'}'\n",
    "    }\n",
    "    listenew = []\n",
    "    if len(liste) == 0:\n",
    "        return True\n",
    "    elif (len(liste)%2):\n",
    "        return False\n",
    "    else:\n",
    "        for i in range(0,len(liste),2):\n",
    "            if liste[i] == '(':\n",
    "                if liste[i+1] == ')':\n",
    "                    listenew.append(liste[i])\n",
    "                    listenew.append(liste[i+1])\n",
    "            elif liste[i] == '{':\n",
    "                if liste[i+1] == '}':\n",
    "                    listenew.append(liste[i])\n",
    "                    listenew.append(liste[i+1])\n",
    "            elif liste[i] == '[':\n",
    "                if liste[i+1] == ']':\n",
    "                    listenew.append(liste[i])\n",
    "                    listenew.append(liste[i+1])\n",
    "\n",
    "        return listenew  \n",
    "                \n",
    "\n",
    "print(squery('()[{()}]'))"
   ]
  },
  {
   "cell_type": "code",
   "execution_count": null,
   "metadata": {},
   "outputs": [],
   "source": [
    "def squery(char):\n",
    "    liste = list(char)\n",
    "  \n",
    "    string = ''\n",
    "    if len(liste) == 0:\n",
    "        return True\n",
    "    elif (len(liste)%2):\n",
    "        return False\n",
    "    else:\n",
    "        n = 0\n",
    "        while n< 5:\n",
    "            if len(liste) == 1:\n",
    "                return False\n",
    "            for i in range(0,len(liste),2):\n",
    "                if liste[i] == '(':\n",
    "                    if liste[i+1] == ')':\n",
    "                        del liste[i+1]\n",
    "                        del liste[i]\n",
    "                        n += 1\n",
    "                elif liste[i] == '{':\n",
    "                    if liste[i+1] == '}':\n",
    "                        del liste[i+1]\n",
    "                        del liste[i]\n",
    "                        n +=1\n",
    "                elif liste[i] == '[':\n",
    "                    if liste[i+1] == ']':\n",
    "                        del liste[i+1]\n",
    "                        del liste[i]\n",
    "                        n+=1\n",
    "\n",
    "            return liste \n",
    "                \n",
    "\n",
    "print(squery('(){[]}])'))\n"
   ]
  },
  {
   "cell_type": "code",
   "execution_count": 4,
   "metadata": {},
   "outputs": [
    {
     "output_type": "stream",
     "name": "stdout",
     "text": [
      "True\n"
     ]
    }
   ],
   "source": [
    "def query(s):\n",
    "    while \"()\" in s or \"{}\" in s or '[]' in s:\n",
    "        s = s.replace(\"()\", \"\").replace('{}', \"\").replace('[]', \"\")\n",
    "    return s == ''\n",
    "print(query(('(){}[]({[]})')))"
   ]
  },
  {
   "cell_type": "code",
   "execution_count": 2,
   "metadata": {},
   "outputs": [
    {
     "output_type": "stream",
     "name": "stdout",
     "text": [
      "['.-', '-.-.', '.-..', '.-', '.-.', '.-...']\n"
     ]
    }
   ],
   "source": [
    "\n",
    "def encode_morse(input):\n",
    "    morse = {\n",
    "    'A': '.-', 'B': '-...', 'C': '-.-.', 'D': '-..', 'E': '.', 'F': '..-.',\n",
    "    'G': '--.', 'H': '....', 'I': '..', 'J': '.---', 'K': '-.-', 'L': '.-..',\n",
    "    'M': '--', 'N': '-.', 'O': '---', 'P': '.--.', 'Q': '--.-', 'R': '.-.',\n",
    "    'S': '...', 'T': '-', 'U': '..-', 'V': '...-', 'W': '.--', 'X': '-..-',\n",
    "    'Y': '-.--', 'Z': '--..', ' ': ' ', '0': '-----',\n",
    "    '1': '.----', '2': '..---', '3': '...--', '4': '....-', '5': '.....',\n",
    "    '6': '-....', '7': '--...', '8': '---..', '9': '----.',\n",
    "    '&': '.-...', \"'\": '.----.', '@': '.--.-.', ')': '-.--.-', '(': '-.--.',\n",
    "    ':': '---...', ',': '--..--', '=': '-...-', '!': '-.-.--', '.': '.-.-.-',\n",
    "    '-': '-....-', '+': '.-.-.', '\"': '.-..-.', '?': '..--..', '/': '-..-.'\n",
    "    }\n",
    "    morse_output = []\n",
    "    for i in input:\n",
    "        for x in morse.keys():\n",
    "            if i.upper() == x:\n",
    "                morse_output.append(morse[x])\n",
    "    return morse_output\n",
    "\n",
    "print(encode_morse(\"Aclar$%&\"))"
   ]
  },
  {
   "cell_type": "code",
   "execution_count": 3,
   "metadata": {},
   "outputs": [
    {
     "output_type": "stream",
     "name": "stdout",
     "text": [
      ".-   -.-.   .-..   .-   .-.   .-... \n"
     ]
    }
   ],
   "source": [
    "def encode_morse(input):\n",
    "    morse = {\n",
    "    'A': '.-', 'B': '-...', 'C': '-.-.', 'D': '-..', 'E': '.', 'F': '..-.',\n",
    "    'G': '--.', 'H': '....', 'I': '..', 'J': '.---', 'K': '-.-', 'L': '.-..',\n",
    "    'M': '--', 'N': '-.', 'O': '---', 'P': '.--.', 'Q': '--.-', 'R': '.-.',\n",
    "    'S': '...', 'T': '-', 'U': '..-', 'V': '...-', 'W': '.--', 'X': '-..-',\n",
    "    'Y': '-.--', 'Z': '--..', ' ': ' ', '0': '-----',\n",
    "    '1': '.----', '2': '..---', '3': '...--', '4': '....-', '5': '.....',\n",
    "    '6': '-....', '7': '--...', '8': '---..', '9': '----.',\n",
    "    '&': '.-...', \"'\": '.----.', '@': '.--.-.', ')': '-.--.-', '(': '-.--.',\n",
    "    ':': '---...', ',': '--..--', '=': '-...-', '!': '-.-.--', '.': '.-.-.-',\n",
    "    '-': '-....-', '+': '.-.-.', '\"': '.-..-.', '?': '..--..', '/': '-..-.'\n",
    "    }\n",
    "    morse_output = ''\n",
    "    for i in input:\n",
    "        for x in morse.keys():\n",
    "            if i.upper() == x:\n",
    "                morse_output += morse[x] + '   '\n",
    "    return morse_output\n",
    "\n",
    "print(encode_morse(\"Aclar$%&\")[:-2])"
   ]
  },
  {
   "cell_type": "code",
   "execution_count": 1,
   "metadata": {},
   "outputs": [
    {
     "output_type": "stream",
     "name": "stdout",
     "text": [
      "[0, 3, 6, 9, 12]\n"
     ]
    }
   ],
   "source": [
    "number_list = [0, 1, 2, 3, 4, 5, 6, 7, 8, 9, 10, 11, 12] \n",
    "divisible_list = filter(lambda x:x%3==0, number_list) \n",
    "print(list(divisible_list))"
   ]
  },
  {
   "cell_type": "code",
   "execution_count": null,
   "metadata": {},
   "outputs": [],
   "source": []
  }
 ]
}